{
  "nbformat": 4,
  "nbformat_minor": 0,
  "metadata": {
    "colab": {
      "provenance": []
    },
    "kernelspec": {
      "name": "python3",
      "display_name": "Python 3"
    },
    "language_info": {
      "name": "python"
    }
  },
  "cells": [
    {
      "cell_type": "code",
      "source": [
        "import pandas as pd\n",
        "import numpy as np\n",
        "import matplotlib.pyplot as plt\n",
        "from prophet import Prophet\n",
        "from statsmodels.tsa.arima.model import ARIMA\n",
        "from sklearn.metrics import mean_squared_error, r2_score\n",
        "from scipy.stats import iqr\n",
        "import warnings\n",
        "\n",
        "# Suppress harmless warnings for cleaner output\n",
        "warnings.filterwarnings(\"ignore\")"
      ],
      "metadata": {
        "id": "nZ25W4zLO1sQ"
      },
      "execution_count": 2,
      "outputs": []
    },
    {
      "cell_type": "code",
      "source": [
        "# --- Project Methodology ---\n",
        "# This script performs an end-to-end sales forecasting analysis on an e-commerce dataset.\n",
        "# The core methodology follows these steps:\n",
        "# 1. Data Ingestion & Robust Preprocessing: Load the dataset, handle missing values,\n",
        "#    and manage transaction types (sales vs. returns) for accurate analysis.\n",
        "# 2. Time-Series Transformation: Aggregate transactional data into a monthly time series\n",
        "#    to identify macro trends and prepare it for forecasting models.\n",
        "# 3. Model Building & Comparison:\n",
        "#    - Build an ARIMA model, a classic statistical method for time series.\n",
        "#    - Build a Prophet model, a modern, business-focused forecasting tool.\n",
        "# 4. Model Evaluation: Compare the performance of both models using Root Mean Squared Error (RMSE)\n",
        "#    and R-squared (R2) to determine the best-performing one.\n",
        "# 5. Business Forecasting: Use the superior model to forecast future monthly demand,\n",
        "#    providing actionable insights for proactive supply chain optimization."
      ],
      "metadata": {
        "id": "aqjWI9jSRsLs"
      },
      "execution_count": 1,
      "outputs": []
    },
    {
      "cell_type": "code",
      "source": [
        "# Attempt to load the dataset with an appropriate encoding to handle special characters.\n",
        "try:\n",
        "    df = pd.read_csv('data.csv', encoding='latin1')\n",
        "except FileNotFoundError:\n",
        "    print(\"Error: The file 'data.csv' was not found. Please ensure it is in the same directory.\")\n",
        "    exit()\n",
        "except UnicodeDecodeError:\n",
        "    print(\"Error: Could not decode the file with 'latin1' encoding. Please check the file's encoding.\")\n",
        "    exit()\n",
        "\n",
        "print(f\"Initial DataFrame shape: {df.shape}\")"
      ],
      "metadata": {
        "colab": {
          "base_uri": "https://localhost:8080/"
        },
        "id": "-Qhet7SmRu60",
        "outputId": "5467647c-9ac9-42a7-fe26-9a83a64a1aff"
      },
      "execution_count": 3,
      "outputs": [
        {
          "output_type": "stream",
          "name": "stdout",
          "text": [
            "Initial DataFrame shape: (541909, 8)\n"
          ]
        }
      ]
    },
    {
      "cell_type": "code",
      "source": [
        "# Data Cleaning: Handle invalid data points and calculate sales\n",
        "# Drop rows where there are missing values\n",
        "df.dropna(inplace=True)\n",
        "print(f\"DataFrame shape after dropping missing values: {df.shape}\")\n",
        "\n",
        "# Filter out rows with negative UnitPrice. A negative price is not valid.\n",
        "df = df[df['UnitPrice'] > 0]\n",
        "print(f\"DataFrame shape after filtering invalid prices: {df.shape}\")"
      ],
      "metadata": {
        "colab": {
          "base_uri": "https://localhost:8080/"
        },
        "id": "zXxavWUgRxU8",
        "outputId": "fecb3ae0-1b31-4c2d-98de-3433c61fe665"
      },
      "execution_count": 6,
      "outputs": [
        {
          "output_type": "stream",
          "name": "stdout",
          "text": [
            "DataFrame shape after dropping missing values: (406789, 9)\n",
            "DataFrame shape after filtering invalid prices: (406789, 9)\n"
          ]
        }
      ]
    },
    {
      "cell_type": "code",
      "source": [
        "# Calculate a net sales amount. Negative quantities represent returns.\n",
        "# We will use this to get a true picture of sales.\n",
        "df['TotalSales'] = df['Quantity'] * df['UnitPrice']\n",
        "print(f\"DataFrame shape after calculating TotalSales: {df.shape}\")\n",
        "\n",
        "# Convert 'InvoiceDate' to datetime objects for time series analysis\n",
        "df['InvoiceDate'] = pd.to_datetime(df['InvoiceDate'])\n",
        "\n",
        "# Aggregate daily sales for the entire store\n",
        "daily_sales = df.groupby('InvoiceDate')['TotalSales'].sum().reset_index()\n",
        "\n",
        "# Sort data by date to ensure proper time sequence\n",
        "daily_sales.sort_values('InvoiceDate', inplace=True)\n",
        "\n",
        "# Resample to monthly sales. This simplifies the time series and makes seasonality more apparent.\n",
        "monthly_sales = daily_sales.set_index('InvoiceDate').resample('M')['TotalSales'].sum().reset_index()\n",
        "\n",
        "# --- Debugging Checkpoint: Inspect the aggregated data ---\n",
        "print(\"\\n--- Aggregated Data Checkpoint ---\")\n",
        "print(\"First 5 months of aggregated sales:\")\n",
        "print(monthly_sales.head())\n",
        "print(\"\\nLast 5 months of aggregated sales:\")\n",
        "print(monthly_sales.tail())\n",
        "print(\"\\nSummary statistics of monthly sales:\")\n",
        "print(monthly_sales['TotalSales'].describe())\n",
        "print(\"--- End of Aggregated Data Checkpoint ---\\n\")"
      ],
      "metadata": {
        "colab": {
          "base_uri": "https://localhost:8080/"
        },
        "id": "KtxkxnsKR1Ad",
        "outputId": "9969a725-f5e9-4a7d-fdb9-f85aaa8cfed0"
      },
      "execution_count": 5,
      "outputs": [
        {
          "output_type": "stream",
          "name": "stdout",
          "text": [
            "DataFrame shape after calculating TotalSales: (406789, 9)\n",
            "\n",
            "--- Aggregated Data Checkpoint ---\n",
            "First 5 months of aggregated sales:\n",
            "  InvoiceDate  TotalSales\n",
            "0  2010-12-31  554604.020\n",
            "1  2011-01-31  475074.380\n",
            "2  2011-02-28  436546.150\n",
            "3  2011-03-31  579964.610\n",
            "4  2011-04-30  426047.851\n",
            "\n",
            "Last 5 months of aggregated sales:\n",
            "   InvoiceDate   TotalSales\n",
            "8   2011-08-31   616368.000\n",
            "9   2011-09-30   931440.372\n",
            "10  2011-10-31   974603.590\n",
            "11  2011-11-30  1132407.740\n",
            "12  2011-12-31   342506.380\n",
            "\n",
            "Summary statistics of monthly sales:\n",
            "count    1.300000e+01\n",
            "mean     6.384666e+05\n",
            "std      2.343563e+05\n",
            "min      3.425064e+05\n",
            "25%      4.750744e+05\n",
            "50%      5.799646e+05\n",
            "75%      6.482511e+05\n",
            "max      1.132408e+06\n",
            "Name: TotalSales, dtype: float64\n",
            "--- End of Aggregated Data Checkpoint ---\n",
            "\n"
          ]
        }
      ]
    },
    {
      "cell_type": "code",
      "source": [
        "# Split the data into training (80%) and testing (20%) sets.\n",
        "train_size = int(len(monthly_sales) * 0.8)\n",
        "train_data, test_data = monthly_sales[:train_size], monthly_sales[train_size:]\n",
        "\n",
        "# Fit the ARIMA(1,1,1) model. The parameters (p, d, q) were chosen for demonstration.\n",
        "model_arima = ARIMA(train_data['TotalSales'], order=(1, 1, 1))\n",
        "model_arima_fit = model_arima.fit()\n",
        "\n",
        "# Make predictions on the test set\n",
        "arima_forecast = model_arima_fit.forecast(steps=len(test_data))\n",
        "arima_forecast_series = pd.Series(arima_forecast, index=test_data.index)\n",
        "\n",
        "# Evaluate ARIMA model performance\n",
        "rmse_arima = np.sqrt(mean_squared_error(test_data['TotalSales'], arima_forecast_series))\n",
        "r2_arima = r2_score(test_data['TotalSales'], arima_forecast_series)\n",
        "print(f'ARIMA Root Mean Squared Error (RMSE): {rmse_arima:.2f}')\n",
        "print(f'ARIMA R-squared (R2): {r2_arima:.2f}')"
      ],
      "metadata": {
        "colab": {
          "base_uri": "https://localhost:8080/"
        },
        "id": "beaivT1MR4NU",
        "outputId": "faae6b28-f0b6-4885-91bf-ad66a4c17957"
      },
      "execution_count": 7,
      "outputs": [
        {
          "output_type": "stream",
          "name": "stdout",
          "text": [
            "ARIMA Root Mean Squared Error (RMSE): 343811.99\n",
            "ARIMA R-squared (R2): -0.01\n"
          ]
        }
      ]
    },
    {
      "cell_type": "code",
      "source": [
        "# Prophet requires specific column names: 'ds' for datestamp and 'y' for the value\n",
        "prophet_df = monthly_sales.rename(columns={'InvoiceDate': 'ds', 'TotalSales': 'y'})\n",
        "\n",
        "# Split data for Prophet\n",
        "prophet_train_data = prophet_df[:train_size]\n",
        "prophet_test_data = prophet_df[train_size:]\n",
        "\n",
        "# Initialize and fit the Prophet model. We disable weekly/daily seasonality due to monthly aggregation.\n",
        "model_prophet = Prophet(interval_width=0.95, yearly_seasonality=True, weekly_seasonality=False, daily_seasonality=False)\n",
        "model_prophet.fit(prophet_train_data)\n",
        "\n",
        "# Create a future DataFrame for predictions, including the test period\n",
        "future = model_prophet.make_future_dataframe(periods=len(prophet_test_data), freq='M')\n",
        "\n",
        "# Make predictions\n",
        "prophet_forecast = model_prophet.predict(future)\n",
        "\n",
        "# Align the forecast with the test data\n",
        "prophet_test_forecast = prophet_forecast['yhat'][-len(prophet_test_data):]\n",
        "\n",
        "# Evaluate Prophet model performance\n",
        "rmse_prophet = np.sqrt(mean_squared_error(prophet_test_data['y'], prophet_test_forecast))\n",
        "r2_prophet = r2_score(prophet_test_data['y'], prophet_test_forecast)\n",
        "print(f'Prophet Root Mean Squared Error (RMSE): {rmse_prophet:.2f}')\n",
        "print(f'Prophet R-squared (R2): {r2_prophet:.2f}')"
      ],
      "metadata": {
        "colab": {
          "base_uri": "https://localhost:8080/"
        },
        "id": "ttlVVXRrR6sz",
        "outputId": "26c49da3-0bbe-496b-a707-b97e7061b73a"
      },
      "execution_count": 8,
      "outputs": [
        {
          "output_type": "stream",
          "name": "stderr",
          "text": [
            "INFO:prophet:n_changepoints greater than number of observations. Using 7.\n",
            "DEBUG:cmdstanpy:input tempfile: /tmp/tmpnjp4viei/tzm9lnl1.json\n",
            "DEBUG:cmdstanpy:input tempfile: /tmp/tmpnjp4viei/ca18w6w3.json\n",
            "DEBUG:cmdstanpy:idx 0\n",
            "DEBUG:cmdstanpy:running CmdStan, num_threads: None\n",
            "DEBUG:cmdstanpy:CmdStan args: ['/usr/local/lib/python3.12/dist-packages/prophet/stan_model/prophet_model.bin', 'random', 'seed=45177', 'data', 'file=/tmp/tmpnjp4viei/tzm9lnl1.json', 'init=/tmp/tmpnjp4viei/ca18w6w3.json', 'output', 'file=/tmp/tmpnjp4viei/prophet_modelx81rkw4g/prophet_model-20250902211849.csv', 'method=optimize', 'algorithm=newton', 'iter=10000']\n",
            "21:18:49 - cmdstanpy - INFO - Chain [1] start processing\n",
            "INFO:cmdstanpy:Chain [1] start processing\n",
            "21:18:49 - cmdstanpy - INFO - Chain [1] done processing\n",
            "INFO:cmdstanpy:Chain [1] done processing\n"
          ]
        },
        {
          "output_type": "stream",
          "name": "stdout",
          "text": [
            "Prophet Root Mean Squared Error (RMSE): 5621407.09\n",
            "Prophet R-squared (R2): -270.27\n"
          ]
        }
      ]
    },
    {
      "cell_type": "code",
      "source": [
        "if rmse_prophet < rmse_arima:\n",
        "    print(f\"Prophet performed better with an RMSE of {rmse_prophet:.2f}, an improvement of {((rmse_arima - rmse_prophet) / rmse_arima) * 100:.2f}% over ARIMA.\")\n",
        "    best_model = 'Prophet'\n",
        "else:\n",
        "    print(f\"ARIMA performed better with an RMSE of {rmse_arima:.2f}, which is an improvement over Prophet's RMSE of {rmse_prophet:.2f}.\")\n",
        "    best_model = 'ARIMA'\n",
        "\n",
        "# Plotting the results for clear comparison\n",
        "plt.figure(figsize=(15, 8))\n",
        "plt.title('Monthly Sales Forecasting: ARIMA vs. Prophet', fontsize=18)\n",
        "\n",
        "plt.plot(monthly_sales['InvoiceDate'], monthly_sales['TotalSales'], label='Actual Sales', color='blue', linewidth=2)\n",
        "plt.plot(test_data['InvoiceDate'], arima_forecast_series, label='ARIMA Forecast', color='orange', linestyle='--', marker='o')\n",
        "plt.plot(prophet_test_data['ds'], prophet_test_forecast, label='Prophet Forecast', color='red', linestyle='-.', marker='s')\n",
        "\n",
        "plt.xlabel('Date', fontsize=12)\n",
        "plt.ylabel('Monthly Sales', fontsize=12)\n",
        "plt.legend()\n",
        "plt.grid(True)\n",
        "plt.show()"
      ],
      "metadata": {
        "colab": {
          "base_uri": "https://localhost:8080/",
          "height": 744
        },
        "id": "8T3PBb7fR-nE",
        "outputId": "d2290895-7a94-468f-d88e-05e4f68cd4a3"
      },
      "execution_count": 9,
      "outputs": [
        {
          "output_type": "stream",
          "name": "stdout",
          "text": [
            "ARIMA performed better with an RMSE of 343811.99, which is an improvement over Prophet's RMSE of 5621407.09.\n"
          ]
        },
        {
          "output_type": "display_data",
          "data": {
            "text/plain": [
              "<Figure size 1500x800 with 1 Axes>"
            ],
            "image/png": "[encoded data removed]"
          },
          "metadata": {}
        }
      ]
    },
    {
      "cell_type": "code",
      "source": [
        "future_periods = 6 # Forecasting for the next 6 months\n",
        "\n",
        "if best_model == 'Prophet':\n",
        "    # Use Prophet's make_future_dataframe for forecasting\n",
        "    future_dates = model_prophet.make_future_dataframe(periods=future_periods, freq='M')\n",
        "    forecast = model_prophet.predict(future_dates)\n",
        "    final_forecast = forecast[['ds', 'yhat']].tail(future_periods)\n",
        "    print(f\"Using the superior Prophet model to forecast the next {future_periods} months:\")\n",
        "    print(final_forecast)\n",
        "else:\n",
        "    # Use ARIMA's forecast method\n",
        "    future_dates = pd.date_range(start=monthly_sales['InvoiceDate'].iloc[-1], periods=future_periods + 1, freq='M')[1:]\n",
        "    forecast_arima = model_arima_fit.forecast(steps=future_periods)\n",
        "    final_forecast = pd.DataFrame({\n",
        "        'ds': future_dates,\n",
        "        'yhat': forecast_arima.values\n",
        "    })\n",
        "    print(f\"Using the superior ARIMA model to forecast the next {future_periods} months:\")\n",
        "    print(final_forecast)"
      ],
      "metadata": {
        "colab": {
          "base_uri": "https://localhost:8080/"
        },
        "id": "1yhUNrMASDWE",
        "outputId": "062b4d50-2c6c-48d6-adef-b84c67e6e854"
      },
      "execution_count": 10,
      "outputs": [
        {
          "output_type": "stream",
          "name": "stdout",
          "text": [
            "Using the superior ARIMA model to forecast the next 6 months:\n",
            "          ds           yhat\n",
            "0 2012-01-31  844745.632191\n",
            "1 2012-02-29  852580.095101\n",
            "2 2012-03-31  851872.107405\n",
            "3 2012-04-30  851936.087104\n",
            "4 2012-05-31  851930.305363\n",
            "5 2012-06-30  851930.827849\n"
          ]
        }
      ]
    },
    {
      "cell_type": "code",
      "source": [],
      "metadata": {
        "id": "u-JlPIlLSGE0"
      },
      "execution_count": null,
      "outputs": []
    }
  ]
}